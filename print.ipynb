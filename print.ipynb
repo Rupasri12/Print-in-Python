{
  "nbformat": 4,
  "nbformat_minor": 0,
  "metadata": {
    "colab": {
      "provenance": []
    },
    "kernelspec": {
      "name": "python3",
      "display_name": "Python 3"
    },
    "language_info": {
      "name": "python"
    }
  },
  "cells": [
    {
      "cell_type": "code",
      "execution_count": null,
      "metadata": {
        "colab": {
          "base_uri": "https://localhost:8080/"
        },
        "id": "nbdbsihQLf77",
        "outputId": "c9e697dd-3567-417b-d15a-17fb9ac36c85"
      },
      "outputs": [
        {
          "output_type": "stream",
          "name": "stdout",
          "text": [
            "45\n"
          ]
        }
      ],
      "source": [
        "print(45)"
      ]
    },
    {
      "cell_type": "code",
      "source": [
        "print(55.55)"
      ],
      "metadata": {
        "colab": {
          "base_uri": "https://localhost:8080/"
        },
        "id": "NIQnWgxGLw6Z",
        "outputId": "654ea2db-d86a-48c5-b7e7-2805d3497d52"
      },
      "execution_count": null,
      "outputs": [
        {
          "output_type": "stream",
          "name": "stdout",
          "text": [
            "55.55\n"
          ]
        }
      ]
    },
    {
      "cell_type": "code",
      "source": [
        "print('python123')"
      ],
      "metadata": {
        "colab": {
          "base_uri": "https://localhost:8080/"
        },
        "id": "Q798b25yL8rv",
        "outputId": "55dde486-c0f5-4c36-d95c-0f44ad0554ac"
      },
      "execution_count": null,
      "outputs": [
        {
          "output_type": "stream",
          "name": "stdout",
          "text": [
            "python123\n"
          ]
        }
      ]
    },
    {
      "cell_type": "code",
      "source": [
        "print('My age is 27')"
      ],
      "metadata": {
        "colab": {
          "base_uri": "https://localhost:8080/"
        },
        "id": "FpahlQ5CMG7x",
        "outputId": "374f7398-d0ca-4f71-8306-a1eb2a4a77d9"
      },
      "execution_count": null,
      "outputs": [
        {
          "output_type": "stream",
          "name": "stdout",
          "text": [
            "My age is 27\n"
          ]
        }
      ]
    },
    {
      "cell_type": "code",
      "source": [
        "a = 27\n",
        "\n",
        "print('my age is 27')"
      ],
      "metadata": {
        "colab": {
          "base_uri": "https://localhost:8080/"
        },
        "id": "N2LcbviLM5tW",
        "outputId": "00d2eeab-719b-4c22-e24f-cd3547212969"
      },
      "execution_count": null,
      "outputs": [
        {
          "output_type": "stream",
          "name": "stdout",
          "text": [
            "my age is 27\n"
          ]
        }
      ]
    },
    {
      "cell_type": "markdown",
      "source": [
        "**relation with print and varibales**\n",
        "\n",
        "- `1. using ,(comma) we can add one data type inside the print with other data type and also comma will give one tab space `"
      ],
      "metadata": {
        "id": "bZu6msbuNRKr"
      }
    },
    {
      "cell_type": "code",
      "source": [
        "a = 27a\n",
        "print('my age is',a)"
      ],
      "metadata": {
        "colab": {
          "base_uri": "https://localhost:8080/"
        },
        "id": "Xu_mjf2fNQSX",
        "outputId": "49388475-e87d-4c2e-d120-be8eafe79d47"
      },
      "execution_count": null,
      "outputs": [
        {
          "output_type": "stream",
          "name": "stdout",
          "text": [
            "my age is 27\n"
          ]
        }
      ]
    },
    {
      "cell_type": "code",
      "source": [
        "a = 45\n",
        "b = 'USA'\n",
        "c = 90.22\n",
        "\n",
        "# I am at the age of 45 staying in usa and earning 90.22 thousand dollors per year\n",
        "\n",
        "print('I am at the age of',a,'staying in',b,'and earning',c,'thousand dollors per year')"
      ],
      "metadata": {
        "colab": {
          "base_uri": "https://localhost:8080/"
        },
        "id": "t4DBPCSbOODT",
        "outputId": "67672728-2a30-415c-be70-0c3e0e0f4d1a"
      },
      "execution_count": null,
      "outputs": [
        {
          "output_type": "stream",
          "name": "stdout",
          "text": [
            "I am at the age of 45 staying in USA and earning 90.22 thousand dollors per year\n"
          ]
        }
      ]
    },
    {
      "cell_type": "code",
      "source": [
        "# Before going to learn 2nd Technique first have a look into type conversions concept\n"
      ],
      "metadata": {
        "id": "Zv-aeL_NO0nP"
      },
      "execution_count": null,
      "outputs": []
    },
    {
      "cell_type": "markdown",
      "source": [
        "**type Conversion -> converting one data type into other data type**\n",
        "\n",
        "- `int -> float and int -> str `\n",
        "- `float -> int and float -> str `\n",
        "- `str -> int and str -> float `"
      ],
      "metadata": {
        "id": "lxmfOOD6Pzba"
      }
    },
    {
      "cell_type": "code",
      "source": [
        "# int -> float\n",
        "\n",
        "a = 25\n",
        "print(a)\n",
        "print(type(a))\n",
        "\n",
        "b = float(a) # actual conversion is going on\n",
        "print(b)\n",
        "print(type(b))"
      ],
      "metadata": {
        "colab": {
          "base_uri": "https://localhost:8080/"
        },
        "id": "H-9G4IDSPqTe",
        "outputId": "d94234f6-7700-42ae-ad6d-4d779c6fcc7f"
      },
      "execution_count": null,
      "outputs": [
        {
          "output_type": "stream",
          "name": "stdout",
          "text": [
            "25\n",
            "<class 'int'>\n",
            "25.0\n",
            "<class 'float'>\n"
          ]
        }
      ]
    },
    {
      "cell_type": "code",
      "source": [
        "f = 56\n",
        "g = str(f)\n",
        "print(g)"
      ],
      "metadata": {
        "colab": {
          "base_uri": "https://localhost:8080/"
        },
        "id": "narLlAR3SJ0l",
        "outputId": "a64704f8-c1b7-45ab-85ff-26d1cd15703f"
      },
      "execution_count": null,
      "outputs": [
        {
          "output_type": "stream",
          "name": "stdout",
          "text": [
            "56\n"
          ]
        }
      ]
    },
    {
      "cell_type": "code",
      "source": [
        "# int -> str\n",
        "\n",
        "a = 25\n",
        "print(a)\n",
        "print(type(a))\n",
        "\n",
        "b = str(a) # actual conversion is going on\n",
        "print(b)\n",
        "print(type(b))"
      ],
      "metadata": {
        "colab": {
          "base_uri": "https://localhost:8080/"
        },
        "id": "Gr6XFbNMQ14Y",
        "outputId": "3233879d-d62f-448b-ee8d-0bd2cf88c9d0"
      },
      "execution_count": null,
      "outputs": [
        {
          "output_type": "stream",
          "name": "stdout",
          "text": [
            "25\n",
            "<class 'int'>\n",
            "25\n",
            "<class 'str'>\n"
          ]
        }
      ]
    },
    {
      "cell_type": "code",
      "source": [
        "# float -> int\n",
        "\n",
        "a = 25.5555\n",
        "print(a)\n",
        "print(type(a))\n",
        "\n",
        "b = int(a) # actual conversion is going on\n",
        "print(b)\n",
        "print(type(b))"
      ],
      "metadata": {
        "colab": {
          "base_uri": "https://localhost:8080/"
        },
        "id": "C-zB8FQYSjwx",
        "outputId": "94c6ebec-5ed7-40e3-a82f-ff005ad51126"
      },
      "execution_count": null,
      "outputs": [
        {
          "output_type": "stream",
          "name": "stdout",
          "text": [
            "25.5555\n",
            "<class 'float'>\n",
            "25\n",
            "<class 'int'>\n"
          ]
        }
      ]
    },
    {
      "cell_type": "code",
      "source": [
        "# float -> str\n",
        "\n",
        "a = 25.5555\n",
        "print(a)\n",
        "print(type(a))\n",
        "\n",
        "b = str(a) # actual conversion is going on\n",
        "print(b)\n",
        "print(type(b))"
      ],
      "metadata": {
        "colab": {
          "base_uri": "https://localhost:8080/"
        },
        "id": "Kr_zV_MAS-E-",
        "outputId": "4f652d22-1b73-46a9-ad0c-5686bb0981ad"
      },
      "execution_count": null,
      "outputs": [
        {
          "output_type": "stream",
          "name": "stdout",
          "text": [
            "25.5555\n",
            "<class 'float'>\n",
            "25.5555\n",
            "<class 'str'>\n"
          ]
        }
      ]
    },
    {
      "cell_type": "code",
      "source": [
        "# str -> int\n",
        "\n",
        "a = '987'\n",
        "print(a)\n",
        "print(type(a))\n",
        "\n",
        "b = int(a)\n",
        "print(b)\n",
        "print(type(b))"
      ],
      "metadata": {
        "colab": {
          "base_uri": "https://localhost:8080/"
        },
        "id": "Tao7PIKOTQue",
        "outputId": "ef77c5e4-bf08-40ab-95e4-50485e10c92b"
      },
      "execution_count": null,
      "outputs": [
        {
          "output_type": "stream",
          "name": "stdout",
          "text": [
            "987\n",
            "<class 'str'>\n",
            "987\n",
            "<class 'int'>\n"
          ]
        }
      ]
    },
    {
      "cell_type": "code",
      "source": [
        "# str -> int\n",
        "\n",
        "a = 'kumar987'\n",
        "print(a)\n",
        "print(type(a))\n",
        "\n",
        "b = int(a)\n",
        "print(b)\n",
        "print(type(b))"
      ],
      "metadata": {
        "colab": {
          "base_uri": "https://localhost:8080/",
          "height": 269
        },
        "id": "HGgQ1OyGT0_G",
        "outputId": "406b3539-f7e9-4c74-9e74-896a1f53ca82"
      },
      "execution_count": null,
      "outputs": [
        {
          "output_type": "stream",
          "name": "stdout",
          "text": [
            "kumar987\n",
            "<class 'str'>\n"
          ]
        },
        {
          "output_type": "error",
          "ename": "ValueError",
          "evalue": "invalid literal for int() with base 10: 'kumar987'",
          "traceback": [
            "\u001b[0;31m---------------------------------------------------------------------------\u001b[0m",
            "\u001b[0;31mValueError\u001b[0m                                Traceback (most recent call last)",
            "\u001b[0;32m<ipython-input-26-9a855a1c4b44>\u001b[0m in \u001b[0;36m<cell line: 7>\u001b[0;34m()\u001b[0m\n\u001b[1;32m      5\u001b[0m \u001b[0mprint\u001b[0m\u001b[0;34m(\u001b[0m\u001b[0mtype\u001b[0m\u001b[0;34m(\u001b[0m\u001b[0ma\u001b[0m\u001b[0;34m)\u001b[0m\u001b[0;34m)\u001b[0m\u001b[0;34m\u001b[0m\u001b[0;34m\u001b[0m\u001b[0m\n\u001b[1;32m      6\u001b[0m \u001b[0;34m\u001b[0m\u001b[0m\n\u001b[0;32m----> 7\u001b[0;31m \u001b[0mb\u001b[0m \u001b[0;34m=\u001b[0m \u001b[0mint\u001b[0m\u001b[0;34m(\u001b[0m\u001b[0ma\u001b[0m\u001b[0;34m)\u001b[0m\u001b[0;34m\u001b[0m\u001b[0;34m\u001b[0m\u001b[0m\n\u001b[0m\u001b[1;32m      8\u001b[0m \u001b[0mprint\u001b[0m\u001b[0;34m(\u001b[0m\u001b[0mb\u001b[0m\u001b[0;34m)\u001b[0m\u001b[0;34m\u001b[0m\u001b[0;34m\u001b[0m\u001b[0m\n\u001b[1;32m      9\u001b[0m \u001b[0mprint\u001b[0m\u001b[0;34m(\u001b[0m\u001b[0mtype\u001b[0m\u001b[0;34m(\u001b[0m\u001b[0mb\u001b[0m\u001b[0;34m)\u001b[0m\u001b[0;34m)\u001b[0m\u001b[0;34m\u001b[0m\u001b[0;34m\u001b[0m\u001b[0m\n",
            "\u001b[0;31mValueError\u001b[0m: invalid literal for int() with base 10: 'kumar987'"
          ]
        }
      ]
    },
    {
      "cell_type": "code",
      "source": [
        "# str -> float\n",
        "\n",
        "a = '67.88'\n",
        "print(a)\n",
        "print(type(a))\n",
        "\n",
        "b = float(a)\n",
        "print(b)\n",
        "print(type(b))"
      ],
      "metadata": {
        "colab": {
          "base_uri": "https://localhost:8080/"
        },
        "id": "ogTtP8uPUMD2",
        "outputId": "c0f380ff-f1b6-4c98-b05a-0e2fbd48eb03"
      },
      "execution_count": null,
      "outputs": [
        {
          "output_type": "stream",
          "name": "stdout",
          "text": [
            "67.88\n",
            "<class 'str'>\n",
            "67.88\n",
            "<class 'float'>\n"
          ]
        }
      ]
    },
    {
      "cell_type": "code",
      "source": [
        "# str -> float\n",
        "\n",
        "a = 'praveen67.88'\n",
        "print(a)\n",
        "print(type(a))\n",
        "\n",
        "b = float(a)\n",
        "print(b)\n",
        "print(type(b))"
      ],
      "metadata": {
        "colab": {
          "base_uri": "https://localhost:8080/",
          "height": 269
        },
        "id": "ZvwbJxHFUel-",
        "outputId": "5d7a8e27-09c6-4066-97aa-2fe5f6aa1faf"
      },
      "execution_count": null,
      "outputs": [
        {
          "output_type": "stream",
          "name": "stdout",
          "text": [
            "praveen67.88\n",
            "<class 'str'>\n"
          ]
        },
        {
          "output_type": "error",
          "ename": "ValueError",
          "evalue": "could not convert string to float: 'praveen67.88'",
          "traceback": [
            "\u001b[0;31m---------------------------------------------------------------------------\u001b[0m",
            "\u001b[0;31mValueError\u001b[0m                                Traceback (most recent call last)",
            "\u001b[0;32m<ipython-input-28-96a5f3bccfa2>\u001b[0m in \u001b[0;36m<cell line: 7>\u001b[0;34m()\u001b[0m\n\u001b[1;32m      5\u001b[0m \u001b[0mprint\u001b[0m\u001b[0;34m(\u001b[0m\u001b[0mtype\u001b[0m\u001b[0;34m(\u001b[0m\u001b[0ma\u001b[0m\u001b[0;34m)\u001b[0m\u001b[0;34m)\u001b[0m\u001b[0;34m\u001b[0m\u001b[0;34m\u001b[0m\u001b[0m\n\u001b[1;32m      6\u001b[0m \u001b[0;34m\u001b[0m\u001b[0m\n\u001b[0;32m----> 7\u001b[0;31m \u001b[0mb\u001b[0m \u001b[0;34m=\u001b[0m \u001b[0mfloat\u001b[0m\u001b[0;34m(\u001b[0m\u001b[0ma\u001b[0m\u001b[0;34m)\u001b[0m\u001b[0;34m\u001b[0m\u001b[0;34m\u001b[0m\u001b[0m\n\u001b[0m\u001b[1;32m      8\u001b[0m \u001b[0mprint\u001b[0m\u001b[0;34m(\u001b[0m\u001b[0mb\u001b[0m\u001b[0;34m)\u001b[0m\u001b[0;34m\u001b[0m\u001b[0;34m\u001b[0m\u001b[0m\n\u001b[1;32m      9\u001b[0m \u001b[0mprint\u001b[0m\u001b[0;34m(\u001b[0m\u001b[0mtype\u001b[0m\u001b[0;34m(\u001b[0m\u001b[0mb\u001b[0m\u001b[0;34m)\u001b[0m\u001b[0;34m)\u001b[0m\u001b[0;34m\u001b[0m\u001b[0;34m\u001b[0m\u001b[0m\n",
            "\u001b[0;31mValueError\u001b[0m: could not convert string to float: 'praveen67.88'"
          ]
        }
      ]
    },
    {
      "cell_type": "markdown",
      "source": [
        "- `2. using + -> we can add str data type along with given varibales but make sure that variables are also string -> and + operator wont give one tab space `"
      ],
      "metadata": {
        "id": "a0YJeMpeU0Zc"
      }
    },
    {
      "cell_type": "code",
      "source": [
        "a = 27\n",
        "print('my age is '+str(a))"
      ],
      "metadata": {
        "colab": {
          "base_uri": "https://localhost:8080/"
        },
        "id": "uYvd4PZiUiZS",
        "outputId": "d6802d0c-d844-4315-ed29-c3c925959f08"
      },
      "execution_count": null,
      "outputs": [
        {
          "output_type": "stream",
          "name": "stdout",
          "text": [
            "my age is 27\n"
          ]
        }
      ]
    },
    {
      "cell_type": "code",
      "source": [
        "a = 45\n",
        "b = 'USA'\n",
        "c = 90.22\n",
        "\n",
        "# I am at the age of 45 staying in usa and earning 90.22 thousand dollors per year\n",
        "\n",
        "print('I am at the age of '+str(a)+' staying in '+b+' and earning '+str(c)+' thousand dollors per year')"
      ],
      "metadata": {
        "colab": {
          "base_uri": "https://localhost:8080/"
        },
        "id": "-CVe2eUlVUgt",
        "outputId": "cc76c520-3bbd-4600-edba-20bc6d680427"
      },
      "execution_count": null,
      "outputs": [
        {
          "output_type": "stream",
          "name": "stdout",
          "text": [
            "I am at the age of 45 staying in USA and earning 90.22 thousand dollors per year\n"
          ]
        }
      ]
    },
    {
      "cell_type": "markdown",
      "source": [
        "- `3. using Identifiers -> %d -> int and %f -> float and %s -> str `"
      ],
      "metadata": {
        "id": "mIjLktpaWS89"
      }
    },
    {
      "cell_type": "code",
      "source": [
        "a = 27\n",
        "print('my age is %d'%(a))"
      ],
      "metadata": {
        "colab": {
          "base_uri": "https://localhost:8080/"
        },
        "id": "soYoMoCSV8So",
        "outputId": "602037d7-0ee1-49d8-e5b9-6e54d5593498"
      },
      "execution_count": null,
      "outputs": [
        {
          "output_type": "stream",
          "name": "stdout",
          "text": [
            "my age is 27\n"
          ]
        }
      ]
    },
    {
      "cell_type": "code",
      "source": [
        "a = 45\n",
        "b = 'USA'\n",
        "c = 90.22\n",
        "\n",
        "# I am at the age of 45 staying in usa and earning 90.22 thousand dollors per year\n",
        "\n",
        "print('I am at the age of %d staying in %s and earning %f thousand dollors per year'%(a,b,c))"
      ],
      "metadata": {
        "colab": {
          "base_uri": "https://localhost:8080/"
        },
        "id": "LxwHmV08WsxM",
        "outputId": "0dc96728-4781-4e96-f0b0-f9ebb545071d"
      },
      "execution_count": null,
      "outputs": [
        {
          "output_type": "stream",
          "name": "stdout",
          "text": [
            "I am at the age of 45 staying in USA and earning 90.220000 thousand dollors per year\n"
          ]
        }
      ]
    },
    {
      "cell_type": "code",
      "source": [
        "a = 45\n",
        "b = 'USA'\n",
        "c = 90.22\n",
        "\n",
        "# I am at the age of 45 staying in usa and earning 90.22 thousand dollors per year\n",
        "\n",
        "print('I am at the age of %d staying in %s and earning %f thousand dollors per year'%(b,c,a))"
      ],
      "metadata": {
        "colab": {
          "base_uri": "https://localhost:8080/",
          "height": 198
        },
        "id": "BRqRt70PXa5u",
        "outputId": "f85eb214-873b-4d9e-ac84-383d3017a5fd"
      },
      "execution_count": null,
      "outputs": [
        {
          "output_type": "error",
          "ename": "TypeError",
          "evalue": "%d format: a real number is required, not str",
          "traceback": [
            "\u001b[0;31m---------------------------------------------------------------------------\u001b[0m",
            "\u001b[0;31mTypeError\u001b[0m                                 Traceback (most recent call last)",
            "\u001b[0;32m<ipython-input-38-1ce1c94dd732>\u001b[0m in \u001b[0;36m<cell line: 7>\u001b[0;34m()\u001b[0m\n\u001b[1;32m      5\u001b[0m \u001b[0;31m# I am at the age of 45 staying in usa and earning 90.22 thousand dollors per year\u001b[0m\u001b[0;34m\u001b[0m\u001b[0;34m\u001b[0m\u001b[0m\n\u001b[1;32m      6\u001b[0m \u001b[0;34m\u001b[0m\u001b[0m\n\u001b[0;32m----> 7\u001b[0;31m \u001b[0mprint\u001b[0m\u001b[0;34m(\u001b[0m\u001b[0;34m'I am at the age of %d staying in %s and earning %f thousand dollors per year'\u001b[0m\u001b[0;34m%\u001b[0m\u001b[0;34m(\u001b[0m\u001b[0mb\u001b[0m\u001b[0;34m,\u001b[0m\u001b[0mc\u001b[0m\u001b[0;34m,\u001b[0m\u001b[0ma\u001b[0m\u001b[0;34m)\u001b[0m\u001b[0;34m)\u001b[0m\u001b[0;34m\u001b[0m\u001b[0;34m\u001b[0m\u001b[0m\n\u001b[0m",
            "\u001b[0;31mTypeError\u001b[0m: %d format: a real number is required, not str"
          ]
        }
      ]
    },
    {
      "cell_type": "markdown",
      "source": [
        "-  `4. using {} and f function`"
      ],
      "metadata": {
        "id": "Yd41IYooXtbb"
      }
    },
    {
      "cell_type": "code",
      "source": [
        "a = 27\n",
        "print(f'My age is {a}')"
      ],
      "metadata": {
        "colab": {
          "base_uri": "https://localhost:8080/"
        },
        "id": "rKU68L7hXmHR",
        "outputId": "003e507d-5242-455d-ce00-a643bcaf0345"
      },
      "execution_count": null,
      "outputs": [
        {
          "output_type": "stream",
          "name": "stdout",
          "text": [
            "My age is 27\n"
          ]
        }
      ]
    },
    {
      "cell_type": "code",
      "source": [
        "a = 45\n",
        "b = 'USA'\n",
        "c = 90.22\n",
        "\n",
        "# I am at the age of 45 staying in usa and earning 90.22 thousand dollors per year\n",
        "\n",
        "print(f'I am at the age of {a} staying in {b} and earning {c} thousand dollors per year')"
      ],
      "metadata": {
        "colab": {
          "base_uri": "https://localhost:8080/"
        },
        "id": "hWDpPJ7gYAIp",
        "outputId": "530a6a67-8201-4a87-b918-4f4e8009fc07"
      },
      "execution_count": null,
      "outputs": [
        {
          "output_type": "stream",
          "name": "stdout",
          "text": [
            "I am at the age of 45 staying in USA and earning 90.22 thousand dollors per year\n"
          ]
        }
      ]
    },
    {
      "cell_type": "code",
      "source": [
        "# library\n",
        "\n",
        "import math # open the library\n",
        "\n",
        "math.factorial(5)"
      ],
      "metadata": {
        "colab": {
          "base_uri": "https://localhost:8080/"
        },
        "id": "rSj5DavpYSoB",
        "outputId": "d1c6d2bb-2d28-4659-fef0-0e0e7f7e6159"
      },
      "execution_count": null,
      "outputs": [
        {
          "output_type": "execute_result",
          "data": {
            "text/plain": [
              "120"
            ]
          },
          "metadata": {},
          "execution_count": 42
        }
      ]
    },
    {
      "cell_type": "code",
      "source": [
        "math.sqrt(25)"
      ],
      "metadata": {
        "colab": {
          "base_uri": "https://localhost:8080/"
        },
        "id": "SrBuSwEZaxcB",
        "outputId": "76c50bd5-eb7b-4acd-d57b-a25ee77543fb"
      },
      "execution_count": null,
      "outputs": [
        {
          "output_type": "execute_result",
          "data": {
            "text/plain": [
              "5.0"
            ]
          },
          "metadata": {},
          "execution_count": 43
        }
      ]
    },
    {
      "cell_type": "code",
      "source": [],
      "metadata": {
        "id": "EVf3nDYZa7SH"
      },
      "execution_count": null,
      "outputs": []
    }
  ]
}